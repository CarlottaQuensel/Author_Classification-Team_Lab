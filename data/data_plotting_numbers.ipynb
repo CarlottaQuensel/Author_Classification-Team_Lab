{
 "metadata": {
  "language_info": {
   "codemirror_mode": {
    "name": "ipython",
    "version": 3
   },
   "file_extension": ".py",
   "mimetype": "text/x-python",
   "name": "python",
   "nbconvert_exporter": "python",
   "pygments_lexer": "ipython3",
   "version": "3.9.0"
  },
  "orig_nbformat": 2,
  "kernelspec": {
   "name": "python390jvsc74a57bd07812ea015bdcee6f23a998adcdd2ef97c151c0c241b7b7070987d9313e41299d",
   "display_name": "Python 3.9.0 64-bit"
  },
  "metadata": {
   "interpreter": {
    "hash": "7812ea015bdcee6f23a998adcdd2ef97c151c0c241b7b7070987d9313e41299d"
   }
  }
 },
 "nbformat": 4,
 "nbformat_minor": 2,
 "cells": [
  {
   "source": [
    "# Data Analysis \n",
    "The data seen here is pulled from [kaggle](https://www.kaggle.com/johnhallman/complete-poetryfoundationorg-dataset?select=kaggle_poem_dataset.csv) as a finished database sourced from the poetryfoundation.org website"
   ],
   "cell_type": "markdown",
   "metadata": {}
  },
  {
   "cell_type": "code",
   "execution_count": 29,
   "metadata": {
    "tags": []
   },
   "outputs": [
    {
     "output_type": "stream",
     "name": "stdout",
     "text": [
      "1229\n"
     ]
    }
   ],
   "source": [
    "import pandas\n",
    "with open(\"poetryfoundation-dataset.csv\", encoding=\"utf-8\") as f:\n",
    "    df = pandas.read_csv(f)\n",
    "    #pandas.set_option('display.max_rows', None)\n",
    "    Author_matrix = df[\"Author\"].value_counts()\n",
    "    Author_list = Author_matrix[1:].tolist()\n",
    "    list_of_numbers = []\n",
    "    for i in Author_list:\n",
    "        if i==1:\n",
    "            list_of_numbers.append(i)\n",
    "    print(len(list_of_numbers))"
   ]
  },
  {
   "cell_type": "code",
   "execution_count": null,
   "metadata": {},
   "outputs": [],
   "source": []
  }
 ]
}